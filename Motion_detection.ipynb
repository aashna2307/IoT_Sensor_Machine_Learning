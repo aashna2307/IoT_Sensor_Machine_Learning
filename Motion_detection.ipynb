{
 "cells": [
  {
   "cell_type": "markdown",
   "metadata": {},
   "source": [
    "# 1) Importing Libraries"
   ]
  },
  {
   "cell_type": "code",
   "execution_count": 1,
   "metadata": {},
   "outputs": [],
   "source": [
    "import numpy as np\n",
    "import pandas as pd\n",
    "import seaborn as sns\n",
    "from matplotlib import pyplot as plt"
   ]
  },
  {
   "cell_type": "markdown",
   "metadata": {},
   "source": [
    "# 2) Loading Dataset"
   ]
  },
  {
   "cell_type": "code",
   "execution_count": 2,
   "metadata": {},
   "outputs": [
    {
     "data": {
      "text/html": [
       "<div>\n",
       "<style scoped>\n",
       "    .dataframe tbody tr th:only-of-type {\n",
       "        vertical-align: middle;\n",
       "    }\n",
       "\n",
       "    .dataframe tbody tr th {\n",
       "        vertical-align: top;\n",
       "    }\n",
       "\n",
       "    .dataframe thead th {\n",
       "        text-align: right;\n",
       "    }\n",
       "</style>\n",
       "<table border=\"1\" class=\"dataframe\">\n",
       "  <thead>\n",
       "    <tr style=\"text-align: right;\">\n",
       "      <th></th>\n",
       "      <th>ts</th>\n",
       "      <th>device</th>\n",
       "      <th>co</th>\n",
       "      <th>humidity</th>\n",
       "      <th>light</th>\n",
       "      <th>lpg</th>\n",
       "      <th>motion</th>\n",
       "      <th>smoke</th>\n",
       "      <th>temp</th>\n",
       "    </tr>\n",
       "  </thead>\n",
       "  <tbody>\n",
       "    <tr>\n",
       "      <th>0</th>\n",
       "      <td>1.590000e+09</td>\n",
       "      <td>b8:27:eb:bf:9d:51</td>\n",
       "      <td>0.004956</td>\n",
       "      <td>51.000000</td>\n",
       "      <td>False</td>\n",
       "      <td>0.007651</td>\n",
       "      <td>False</td>\n",
       "      <td>0.020411</td>\n",
       "      <td>22.700000</td>\n",
       "    </tr>\n",
       "    <tr>\n",
       "      <th>1</th>\n",
       "      <td>1.590000e+09</td>\n",
       "      <td>00:0f:00:70:91:0a</td>\n",
       "      <td>0.002840</td>\n",
       "      <td>76.000000</td>\n",
       "      <td>False</td>\n",
       "      <td>0.005114</td>\n",
       "      <td>False</td>\n",
       "      <td>0.013275</td>\n",
       "      <td>19.700001</td>\n",
       "    </tr>\n",
       "    <tr>\n",
       "      <th>2</th>\n",
       "      <td>1.590000e+09</td>\n",
       "      <td>b8:27:eb:bf:9d:51</td>\n",
       "      <td>0.004976</td>\n",
       "      <td>50.900000</td>\n",
       "      <td>False</td>\n",
       "      <td>0.007673</td>\n",
       "      <td>False</td>\n",
       "      <td>0.020475</td>\n",
       "      <td>22.600000</td>\n",
       "    </tr>\n",
       "    <tr>\n",
       "      <th>3</th>\n",
       "      <td>1.590000e+09</td>\n",
       "      <td>1c:bf:ce:15:ec:4d</td>\n",
       "      <td>0.004403</td>\n",
       "      <td>76.800003</td>\n",
       "      <td>True</td>\n",
       "      <td>0.007023</td>\n",
       "      <td>False</td>\n",
       "      <td>0.018628</td>\n",
       "      <td>27.000000</td>\n",
       "    </tr>\n",
       "    <tr>\n",
       "      <th>4</th>\n",
       "      <td>1.590000e+09</td>\n",
       "      <td>b8:27:eb:bf:9d:51</td>\n",
       "      <td>0.004967</td>\n",
       "      <td>50.900000</td>\n",
       "      <td>False</td>\n",
       "      <td>0.007664</td>\n",
       "      <td>False</td>\n",
       "      <td>0.020448</td>\n",
       "      <td>22.600000</td>\n",
       "    </tr>\n",
       "    <tr>\n",
       "      <th>...</th>\n",
       "      <td>...</td>\n",
       "      <td>...</td>\n",
       "      <td>...</td>\n",
       "      <td>...</td>\n",
       "      <td>...</td>\n",
       "      <td>...</td>\n",
       "      <td>...</td>\n",
       "      <td>...</td>\n",
       "      <td>...</td>\n",
       "    </tr>\n",
       "    <tr>\n",
       "      <th>405179</th>\n",
       "      <td>1.600000e+09</td>\n",
       "      <td>00:0f:00:70:91:0a</td>\n",
       "      <td>0.003745</td>\n",
       "      <td>75.300003</td>\n",
       "      <td>False</td>\n",
       "      <td>0.006247</td>\n",
       "      <td>False</td>\n",
       "      <td>0.016437</td>\n",
       "      <td>19.200001</td>\n",
       "    </tr>\n",
       "    <tr>\n",
       "      <th>405180</th>\n",
       "      <td>1.600000e+09</td>\n",
       "      <td>b8:27:eb:bf:9d:51</td>\n",
       "      <td>0.005882</td>\n",
       "      <td>48.500000</td>\n",
       "      <td>False</td>\n",
       "      <td>0.008660</td>\n",
       "      <td>False</td>\n",
       "      <td>0.023301</td>\n",
       "      <td>22.200000</td>\n",
       "    </tr>\n",
       "    <tr>\n",
       "      <th>405181</th>\n",
       "      <td>1.600000e+09</td>\n",
       "      <td>1c:bf:ce:15:ec:4d</td>\n",
       "      <td>0.004540</td>\n",
       "      <td>75.699997</td>\n",
       "      <td>True</td>\n",
       "      <td>0.007181</td>\n",
       "      <td>False</td>\n",
       "      <td>0.019076</td>\n",
       "      <td>26.600000</td>\n",
       "    </tr>\n",
       "    <tr>\n",
       "      <th>405182</th>\n",
       "      <td>1.600000e+09</td>\n",
       "      <td>00:0f:00:70:91:0a</td>\n",
       "      <td>0.003745</td>\n",
       "      <td>75.300003</td>\n",
       "      <td>False</td>\n",
       "      <td>0.006247</td>\n",
       "      <td>False</td>\n",
       "      <td>0.016437</td>\n",
       "      <td>19.200001</td>\n",
       "    </tr>\n",
       "    <tr>\n",
       "      <th>405183</th>\n",
       "      <td>1.600000e+09</td>\n",
       "      <td>b8:27:eb:bf:9d:51</td>\n",
       "      <td>0.005914</td>\n",
       "      <td>48.400000</td>\n",
       "      <td>False</td>\n",
       "      <td>0.008695</td>\n",
       "      <td>False</td>\n",
       "      <td>0.023400</td>\n",
       "      <td>22.200000</td>\n",
       "    </tr>\n",
       "  </tbody>\n",
       "</table>\n",
       "<p>405184 rows × 9 columns</p>\n",
       "</div>"
      ],
      "text/plain": [
       "                  ts             device        co   humidity  light       lpg  \\\n",
       "0       1.590000e+09  b8:27:eb:bf:9d:51  0.004956  51.000000  False  0.007651   \n",
       "1       1.590000e+09  00:0f:00:70:91:0a  0.002840  76.000000  False  0.005114   \n",
       "2       1.590000e+09  b8:27:eb:bf:9d:51  0.004976  50.900000  False  0.007673   \n",
       "3       1.590000e+09  1c:bf:ce:15:ec:4d  0.004403  76.800003   True  0.007023   \n",
       "4       1.590000e+09  b8:27:eb:bf:9d:51  0.004967  50.900000  False  0.007664   \n",
       "...              ...                ...       ...        ...    ...       ...   \n",
       "405179  1.600000e+09  00:0f:00:70:91:0a  0.003745  75.300003  False  0.006247   \n",
       "405180  1.600000e+09  b8:27:eb:bf:9d:51  0.005882  48.500000  False  0.008660   \n",
       "405181  1.600000e+09  1c:bf:ce:15:ec:4d  0.004540  75.699997   True  0.007181   \n",
       "405182  1.600000e+09  00:0f:00:70:91:0a  0.003745  75.300003  False  0.006247   \n",
       "405183  1.600000e+09  b8:27:eb:bf:9d:51  0.005914  48.400000  False  0.008695   \n",
       "\n",
       "        motion     smoke       temp  \n",
       "0        False  0.020411  22.700000  \n",
       "1        False  0.013275  19.700001  \n",
       "2        False  0.020475  22.600000  \n",
       "3        False  0.018628  27.000000  \n",
       "4        False  0.020448  22.600000  \n",
       "...        ...       ...        ...  \n",
       "405179   False  0.016437  19.200001  \n",
       "405180   False  0.023301  22.200000  \n",
       "405181   False  0.019076  26.600000  \n",
       "405182   False  0.016437  19.200001  \n",
       "405183   False  0.023400  22.200000  \n",
       "\n",
       "[405184 rows x 9 columns]"
      ]
     },
     "execution_count": 2,
     "metadata": {},
     "output_type": "execute_result"
    }
   ],
   "source": [
    "iot_data = pd.read_csv('iot_telemetry_data.csv')\n",
    "iot_data"
   ]
  },
  {
   "cell_type": "code",
   "execution_count": 3,
   "metadata": {},
   "outputs": [
    {
     "name": "stdout",
     "output_type": "stream",
     "text": [
      "<class 'pandas.core.frame.DataFrame'>\n",
      "RangeIndex: 405184 entries, 0 to 405183\n",
      "Data columns (total 9 columns):\n",
      " #   Column    Non-Null Count   Dtype  \n",
      "---  ------    --------------   -----  \n",
      " 0   ts        405184 non-null  float64\n",
      " 1   device    405184 non-null  object \n",
      " 2   co        405184 non-null  float64\n",
      " 3   humidity  405184 non-null  float64\n",
      " 4   light     405184 non-null  bool   \n",
      " 5   lpg       405184 non-null  float64\n",
      " 6   motion    405184 non-null  bool   \n",
      " 7   smoke     405184 non-null  float64\n",
      " 8   temp      405184 non-null  float64\n",
      "dtypes: bool(2), float64(6), object(1)\n",
      "memory usage: 22.4+ MB\n"
     ]
    }
   ],
   "source": [
    "iot_data.info()"
   ]
  },
  {
   "cell_type": "markdown",
   "metadata": {},
   "source": [
    "# 3) Preprocessing of Data"
   ]
  },
  {
   "cell_type": "code",
   "execution_count": 4,
   "metadata": {},
   "outputs": [
    {
     "name": "stdout",
     "output_type": "stream",
     "text": [
      "              device        co   humidity  light       lpg  motion     smoke  \\\n",
      "0  b8:27:eb:bf:9d:51  0.004956  51.000000  False  0.007651   False  0.020411   \n",
      "1  00:0f:00:70:91:0a  0.002840  76.000000  False  0.005114   False  0.013275   \n",
      "2  b8:27:eb:bf:9d:51  0.004976  50.900000  False  0.007673   False  0.020475   \n",
      "3  1c:bf:ce:15:ec:4d  0.004403  76.800003   True  0.007023   False  0.018628   \n",
      "4  b8:27:eb:bf:9d:51  0.004967  50.900000  False  0.007664   False  0.020448   \n",
      "\n",
      "        temp          time_stamp  \n",
      "0  22.700000 2020-05-20 18:40:00  \n",
      "1  19.700001 2020-05-20 18:40:00  \n",
      "2  22.600000 2020-05-20 18:40:00  \n",
      "3  27.000000 2020-05-20 18:40:00  \n",
      "4  22.600000 2020-05-20 18:40:00  \n"
     ]
    }
   ],
   "source": [
    "iot_data['time_stamp'] = pd.to_datetime(iot_data['ts'], unit='s')\n",
    "#since in the Time column, a date isn’t specified and hence Pandas will put Some date automatically in that case.\n",
    "iot_data.drop(columns=['ts'], inplace=True) \n",
    "print(iot_data.head())"
   ]
  },
  {
   "cell_type": "code",
   "execution_count": 5,
   "metadata": {},
   "outputs": [
    {
     "data": {
      "text/plain": [
       "<matplotlib.axes._subplots.AxesSubplot at 0x18a84fd1388>"
      ]
     },
     "execution_count": 5,
     "metadata": {},
     "output_type": "execute_result"
    },
    {
     "data": {
      "image/png": "[encoded data removed]",
      "text/plain": [
       "<Figure size 432x288 with 2 Axes>"
      ]
     },
     "metadata": {
      "needs_background": "light"
     },
     "output_type": "display_data"
    }
   ],
   "source": [
    "sns.heatmap(iot_data.corr()) "
   ]
  },
  {
   "cell_type": "code",
   "execution_count": 6,
   "metadata": {},
   "outputs": [],
   "source": [
    "from sklearn.preprocessing import LabelEncoder, OneHotEncoder\n",
    "labelencoder=LabelEncoder()\n",
    "Devices = labelencoder.fit_transform(iot_data['device'])\n",
    "Light = labelencoder.fit_transform(iot_data['light'])\n",
    "Motion = labelencoder.fit_transform(iot_data['motion'])\n",
    "\n",
    "onehotencoder=OneHotEncoder()"
   ]
  },
  {
   "cell_type": "code",
   "execution_count": 7,
   "metadata": {},
   "outputs": [
    {
     "data": {
      "text/html": [
       "<div>\n",
       "<style scoped>\n",
       "    .dataframe tbody tr th:only-of-type {\n",
       "        vertical-align: middle;\n",
       "    }\n",
       "\n",
       "    .dataframe tbody tr th {\n",
       "        vertical-align: top;\n",
       "    }\n",
       "\n",
       "    .dataframe thead th {\n",
       "        text-align: right;\n",
       "    }\n",
       "</style>\n",
       "<table border=\"1\" class=\"dataframe\">\n",
       "  <thead>\n",
       "    <tr style=\"text-align: right;\">\n",
       "      <th></th>\n",
       "      <th>device</th>\n",
       "      <th>co</th>\n",
       "      <th>humidity</th>\n",
       "      <th>light</th>\n",
       "      <th>lpg</th>\n",
       "      <th>motion</th>\n",
       "      <th>smoke</th>\n",
       "      <th>temp</th>\n",
       "      <th>time_stamp</th>\n",
       "    </tr>\n",
       "  </thead>\n",
       "  <tbody>\n",
       "    <tr>\n",
       "      <th>0</th>\n",
       "      <td>2</td>\n",
       "      <td>0.004956</td>\n",
       "      <td>51.000000</td>\n",
       "      <td>0</td>\n",
       "      <td>0.007651</td>\n",
       "      <td>0</td>\n",
       "      <td>0.020411</td>\n",
       "      <td>22.700000</td>\n",
       "      <td>2020-05-20 18:40:00</td>\n",
       "    </tr>\n",
       "    <tr>\n",
       "      <th>1</th>\n",
       "      <td>0</td>\n",
       "      <td>0.002840</td>\n",
       "      <td>76.000000</td>\n",
       "      <td>0</td>\n",
       "      <td>0.005114</td>\n",
       "      <td>0</td>\n",
       "      <td>0.013275</td>\n",
       "      <td>19.700001</td>\n",
       "      <td>2020-05-20 18:40:00</td>\n",
       "    </tr>\n",
       "    <tr>\n",
       "      <th>2</th>\n",
       "      <td>2</td>\n",
       "      <td>0.004976</td>\n",
       "      <td>50.900000</td>\n",
       "      <td>0</td>\n",
       "      <td>0.007673</td>\n",
       "      <td>0</td>\n",
       "      <td>0.020475</td>\n",
       "      <td>22.600000</td>\n",
       "      <td>2020-05-20 18:40:00</td>\n",
       "    </tr>\n",
       "    <tr>\n",
       "      <th>3</th>\n",
       "      <td>1</td>\n",
       "      <td>0.004403</td>\n",
       "      <td>76.800003</td>\n",
       "      <td>1</td>\n",
       "      <td>0.007023</td>\n",
       "      <td>0</td>\n",
       "      <td>0.018628</td>\n",
       "      <td>27.000000</td>\n",
       "      <td>2020-05-20 18:40:00</td>\n",
       "    </tr>\n",
       "    <tr>\n",
       "      <th>4</th>\n",
       "      <td>2</td>\n",
       "      <td>0.004967</td>\n",
       "      <td>50.900000</td>\n",
       "      <td>0</td>\n",
       "      <td>0.007664</td>\n",
       "      <td>0</td>\n",
       "      <td>0.020448</td>\n",
       "      <td>22.600000</td>\n",
       "      <td>2020-05-20 18:40:00</td>\n",
       "    </tr>\n",
       "    <tr>\n",
       "      <th>...</th>\n",
       "      <td>...</td>\n",
       "      <td>...</td>\n",
       "      <td>...</td>\n",
       "      <td>...</td>\n",
       "      <td>...</td>\n",
       "      <td>...</td>\n",
       "      <td>...</td>\n",
       "      <td>...</td>\n",
       "      <td>...</td>\n",
       "    </tr>\n",
       "    <tr>\n",
       "      <th>405179</th>\n",
       "      <td>0</td>\n",
       "      <td>0.003745</td>\n",
       "      <td>75.300003</td>\n",
       "      <td>0</td>\n",
       "      <td>0.006247</td>\n",
       "      <td>0</td>\n",
       "      <td>0.016437</td>\n",
       "      <td>19.200001</td>\n",
       "      <td>2020-09-13 12:26:40</td>\n",
       "    </tr>\n",
       "    <tr>\n",
       "      <th>405180</th>\n",
       "      <td>2</td>\n",
       "      <td>0.005882</td>\n",
       "      <td>48.500000</td>\n",
       "      <td>0</td>\n",
       "      <td>0.008660</td>\n",
       "      <td>0</td>\n",
       "      <td>0.023301</td>\n",
       "      <td>22.200000</td>\n",
       "      <td>2020-09-13 12:26:40</td>\n",
       "    </tr>\n",
       "    <tr>\n",
       "      <th>405181</th>\n",
       "      <td>1</td>\n",
       "      <td>0.004540</td>\n",
       "      <td>75.699997</td>\n",
       "      <td>1</td>\n",
       "      <td>0.007181</td>\n",
       "      <td>0</td>\n",
       "      <td>0.019076</td>\n",
       "      <td>26.600000</td>\n",
       "      <td>2020-09-13 12:26:40</td>\n",
       "    </tr>\n",
       "    <tr>\n",
       "      <th>405182</th>\n",
       "      <td>0</td>\n",
       "      <td>0.003745</td>\n",
       "      <td>75.300003</td>\n",
       "      <td>0</td>\n",
       "      <td>0.006247</td>\n",
       "      <td>0</td>\n",
       "      <td>0.016437</td>\n",
       "      <td>19.200001</td>\n",
       "      <td>2020-09-13 12:26:40</td>\n",
       "    </tr>\n",
       "    <tr>\n",
       "      <th>405183</th>\n",
       "      <td>2</td>\n",
       "      <td>0.005914</td>\n",
       "      <td>48.400000</td>\n",
       "      <td>0</td>\n",
       "      <td>0.008695</td>\n",
       "      <td>0</td>\n",
       "      <td>0.023400</td>\n",
       "      <td>22.200000</td>\n",
       "      <td>2020-09-13 12:26:40</td>\n",
       "    </tr>\n",
       "  </tbody>\n",
       "</table>\n",
       "<p>405184 rows × 9 columns</p>\n",
       "</div>"
      ],
      "text/plain": [
       "        device        co   humidity  light       lpg  motion     smoke  \\\n",
       "0            2  0.004956  51.000000      0  0.007651       0  0.020411   \n",
       "1            0  0.002840  76.000000      0  0.005114       0  0.013275   \n",
       "2            2  0.004976  50.900000      0  0.007673       0  0.020475   \n",
       "3            1  0.004403  76.800003      1  0.007023       0  0.018628   \n",
       "4            2  0.004967  50.900000      0  0.007664       0  0.020448   \n",
       "...        ...       ...        ...    ...       ...     ...       ...   \n",
       "405179       0  0.003745  75.300003      0  0.006247       0  0.016437   \n",
       "405180       2  0.005882  48.500000      0  0.008660       0  0.023301   \n",
       "405181       1  0.004540  75.699997      1  0.007181       0  0.019076   \n",
       "405182       0  0.003745  75.300003      0  0.006247       0  0.016437   \n",
       "405183       2  0.005914  48.400000      0  0.008695       0  0.023400   \n",
       "\n",
       "             temp          time_stamp  \n",
       "0       22.700000 2020-05-20 18:40:00  \n",
       "1       19.700001 2020-05-20 18:40:00  \n",
       "2       22.600000 2020-05-20 18:40:00  \n",
       "3       27.000000 2020-05-20 18:40:00  \n",
       "4       22.600000 2020-05-20 18:40:00  \n",
       "...           ...                 ...  \n",
       "405179  19.200001 2020-09-13 12:26:40  \n",
       "405180  22.200000 2020-09-13 12:26:40  \n",
       "405181  26.600000 2020-09-13 12:26:40  \n",
       "405182  19.200001 2020-09-13 12:26:40  \n",
       "405183  22.200000 2020-09-13 12:26:40  \n",
       "\n",
       "[405184 rows x 9 columns]"
      ]
     },
     "execution_count": 7,
     "metadata": {},
     "output_type": "execute_result"
    }
   ],
   "source": [
    "iot_data['device'] = Devices\n",
    "iot_data['light'] = Light\n",
    "iot_data['motion'] = Motion\n",
    "iot_data"
   ]
  },
  {
   "cell_type": "code",
   "execution_count": 8,
   "metadata": {},
   "outputs": [
    {
     "data": {
      "text/html": [
       "<div>\n",
       "<style scoped>\n",
       "    .dataframe tbody tr th:only-of-type {\n",
       "        vertical-align: middle;\n",
       "    }\n",
       "\n",
       "    .dataframe tbody tr th {\n",
       "        vertical-align: top;\n",
       "    }\n",
       "\n",
       "    .dataframe thead th {\n",
       "        text-align: right;\n",
       "    }\n",
       "</style>\n",
       "<table border=\"1\" class=\"dataframe\">\n",
       "  <thead>\n",
       "    <tr style=\"text-align: right;\">\n",
       "      <th></th>\n",
       "      <th>device</th>\n",
       "      <th>co</th>\n",
       "      <th>humidity</th>\n",
       "      <th>light</th>\n",
       "      <th>lpg</th>\n",
       "      <th>motion</th>\n",
       "      <th>smoke</th>\n",
       "      <th>temp</th>\n",
       "      <th>time_stamp</th>\n",
       "    </tr>\n",
       "  </thead>\n",
       "  <tbody>\n",
       "    <tr>\n",
       "      <th>0</th>\n",
       "      <td>2</td>\n",
       "      <td>0.004956</td>\n",
       "      <td>51.000000</td>\n",
       "      <td>0</td>\n",
       "      <td>0.007651</td>\n",
       "      <td>0</td>\n",
       "      <td>0.020411</td>\n",
       "      <td>22.700000</td>\n",
       "      <td>2020-05-20 18:40:00</td>\n",
       "    </tr>\n",
       "    <tr>\n",
       "      <th>1</th>\n",
       "      <td>0</td>\n",
       "      <td>0.002840</td>\n",
       "      <td>76.000000</td>\n",
       "      <td>0</td>\n",
       "      <td>0.005114</td>\n",
       "      <td>0</td>\n",
       "      <td>0.013275</td>\n",
       "      <td>19.700001</td>\n",
       "      <td>2020-05-20 18:40:00</td>\n",
       "    </tr>\n",
       "    <tr>\n",
       "      <th>2</th>\n",
       "      <td>2</td>\n",
       "      <td>0.004976</td>\n",
       "      <td>50.900000</td>\n",
       "      <td>0</td>\n",
       "      <td>0.007673</td>\n",
       "      <td>0</td>\n",
       "      <td>0.020475</td>\n",
       "      <td>22.600000</td>\n",
       "      <td>2020-05-20 18:40:00</td>\n",
       "    </tr>\n",
       "    <tr>\n",
       "      <th>3</th>\n",
       "      <td>1</td>\n",
       "      <td>0.004403</td>\n",
       "      <td>76.800003</td>\n",
       "      <td>1</td>\n",
       "      <td>0.007023</td>\n",
       "      <td>0</td>\n",
       "      <td>0.018628</td>\n",
       "      <td>27.000000</td>\n",
       "      <td>2020-05-20 18:40:00</td>\n",
       "    </tr>\n",
       "    <tr>\n",
       "      <th>4</th>\n",
       "      <td>2</td>\n",
       "      <td>0.004967</td>\n",
       "      <td>50.900000</td>\n",
       "      <td>0</td>\n",
       "      <td>0.007664</td>\n",
       "      <td>0</td>\n",
       "      <td>0.020448</td>\n",
       "      <td>22.600000</td>\n",
       "      <td>2020-05-20 18:40:00</td>\n",
       "    </tr>\n",
       "  </tbody>\n",
       "</table>\n",
       "</div>"
      ],
      "text/plain": [
       "   device        co   humidity  light       lpg  motion     smoke       temp  \\\n",
       "0       2  0.004956  51.000000      0  0.007651       0  0.020411  22.700000   \n",
       "1       0  0.002840  76.000000      0  0.005114       0  0.013275  19.700001   \n",
       "2       2  0.004976  50.900000      0  0.007673       0  0.020475  22.600000   \n",
       "3       1  0.004403  76.800003      1  0.007023       0  0.018628  27.000000   \n",
       "4       2  0.004967  50.900000      0  0.007664       0  0.020448  22.600000   \n",
       "\n",
       "           time_stamp  \n",
       "0 2020-05-20 18:40:00  \n",
       "1 2020-05-20 18:40:00  \n",
       "2 2020-05-20 18:40:00  \n",
       "3 2020-05-20 18:40:00  \n",
       "4 2020-05-20 18:40:00  "
      ]
     },
     "execution_count": 8,
     "metadata": {},
     "output_type": "execute_result"
    }
   ],
   "source": [
    "iot_data_df = pd.DataFrame(iot_data)\n",
    "iot_data_df.head()"
   ]
  },
  {
   "cell_type": "code",
   "execution_count": 9,
   "metadata": {},
   "outputs": [
    {
     "data": {
      "text/plain": [
       "device        0\n",
       "co            0\n",
       "humidity      0\n",
       "light         0\n",
       "lpg           0\n",
       "motion        0\n",
       "smoke         0\n",
       "temp          0\n",
       "time_stamp    0\n",
       "dtype: int64"
      ]
     },
     "execution_count": 9,
     "metadata": {},
     "output_type": "execute_result"
    }
   ],
   "source": [
    "iot_data_df.isnull().sum()"
   ]
  },
  {
   "cell_type": "code",
   "execution_count": 10,
   "metadata": {},
   "outputs": [
    {
     "data": {
      "text/html": [
       "<div>\n",
       "<style scoped>\n",
       "    .dataframe tbody tr th:only-of-type {\n",
       "        vertical-align: middle;\n",
       "    }\n",
       "\n",
       "    .dataframe tbody tr th {\n",
       "        vertical-align: top;\n",
       "    }\n",
       "\n",
       "    .dataframe thead th {\n",
       "        text-align: right;\n",
       "    }\n",
       "</style>\n",
       "<table border=\"1\" class=\"dataframe\">\n",
       "  <thead>\n",
       "    <tr style=\"text-align: right;\">\n",
       "      <th></th>\n",
       "      <th>device</th>\n",
       "      <th>co</th>\n",
       "      <th>humidity</th>\n",
       "      <th>light</th>\n",
       "      <th>lpg</th>\n",
       "      <th>motion</th>\n",
       "      <th>smoke</th>\n",
       "      <th>temp</th>\n",
       "      <th>time_stamp</th>\n",
       "    </tr>\n",
       "  </thead>\n",
       "  <tbody>\n",
       "    <tr>\n",
       "      <th>0</th>\n",
       "      <td>2</td>\n",
       "      <td>0.004956</td>\n",
       "      <td>51.000000</td>\n",
       "      <td>0</td>\n",
       "      <td>0.007651</td>\n",
       "      <td>0</td>\n",
       "      <td>0.020411</td>\n",
       "      <td>72.860000</td>\n",
       "      <td>2020-05-20 18:40:00</td>\n",
       "    </tr>\n",
       "    <tr>\n",
       "      <th>1</th>\n",
       "      <td>0</td>\n",
       "      <td>0.002840</td>\n",
       "      <td>76.000000</td>\n",
       "      <td>0</td>\n",
       "      <td>0.005114</td>\n",
       "      <td>0</td>\n",
       "      <td>0.013275</td>\n",
       "      <td>67.460001</td>\n",
       "      <td>2020-05-20 18:40:00</td>\n",
       "    </tr>\n",
       "    <tr>\n",
       "      <th>2</th>\n",
       "      <td>2</td>\n",
       "      <td>0.004976</td>\n",
       "      <td>50.900000</td>\n",
       "      <td>0</td>\n",
       "      <td>0.007673</td>\n",
       "      <td>0</td>\n",
       "      <td>0.020475</td>\n",
       "      <td>72.680000</td>\n",
       "      <td>2020-05-20 18:40:00</td>\n",
       "    </tr>\n",
       "    <tr>\n",
       "      <th>3</th>\n",
       "      <td>1</td>\n",
       "      <td>0.004403</td>\n",
       "      <td>76.800003</td>\n",
       "      <td>1</td>\n",
       "      <td>0.007023</td>\n",
       "      <td>0</td>\n",
       "      <td>0.018628</td>\n",
       "      <td>80.600000</td>\n",
       "      <td>2020-05-20 18:40:00</td>\n",
       "    </tr>\n",
       "    <tr>\n",
       "      <th>4</th>\n",
       "      <td>2</td>\n",
       "      <td>0.004967</td>\n",
       "      <td>50.900000</td>\n",
       "      <td>0</td>\n",
       "      <td>0.007664</td>\n",
       "      <td>0</td>\n",
       "      <td>0.020448</td>\n",
       "      <td>72.680000</td>\n",
       "      <td>2020-05-20 18:40:00</td>\n",
       "    </tr>\n",
       "    <tr>\n",
       "      <th>...</th>\n",
       "      <td>...</td>\n",
       "      <td>...</td>\n",
       "      <td>...</td>\n",
       "      <td>...</td>\n",
       "      <td>...</td>\n",
       "      <td>...</td>\n",
       "      <td>...</td>\n",
       "      <td>...</td>\n",
       "      <td>...</td>\n",
       "    </tr>\n",
       "    <tr>\n",
       "      <th>405179</th>\n",
       "      <td>0</td>\n",
       "      <td>0.003745</td>\n",
       "      <td>75.300003</td>\n",
       "      <td>0</td>\n",
       "      <td>0.006247</td>\n",
       "      <td>0</td>\n",
       "      <td>0.016437</td>\n",
       "      <td>66.560001</td>\n",
       "      <td>2020-09-13 12:26:40</td>\n",
       "    </tr>\n",
       "    <tr>\n",
       "      <th>405180</th>\n",
       "      <td>2</td>\n",
       "      <td>0.005882</td>\n",
       "      <td>48.500000</td>\n",
       "      <td>0</td>\n",
       "      <td>0.008660</td>\n",
       "      <td>0</td>\n",
       "      <td>0.023301</td>\n",
       "      <td>71.960000</td>\n",
       "      <td>2020-09-13 12:26:40</td>\n",
       "    </tr>\n",
       "    <tr>\n",
       "      <th>405181</th>\n",
       "      <td>1</td>\n",
       "      <td>0.004540</td>\n",
       "      <td>75.699997</td>\n",
       "      <td>1</td>\n",
       "      <td>0.007181</td>\n",
       "      <td>0</td>\n",
       "      <td>0.019076</td>\n",
       "      <td>79.880001</td>\n",
       "      <td>2020-09-13 12:26:40</td>\n",
       "    </tr>\n",
       "    <tr>\n",
       "      <th>405182</th>\n",
       "      <td>0</td>\n",
       "      <td>0.003745</td>\n",
       "      <td>75.300003</td>\n",
       "      <td>0</td>\n",
       "      <td>0.006247</td>\n",
       "      <td>0</td>\n",
       "      <td>0.016437</td>\n",
       "      <td>66.560001</td>\n",
       "      <td>2020-09-13 12:26:40</td>\n",
       "    </tr>\n",
       "    <tr>\n",
       "      <th>405183</th>\n",
       "      <td>2</td>\n",
       "      <td>0.005914</td>\n",
       "      <td>48.400000</td>\n",
       "      <td>0</td>\n",
       "      <td>0.008695</td>\n",
       "      <td>0</td>\n",
       "      <td>0.023400</td>\n",
       "      <td>71.960000</td>\n",
       "      <td>2020-09-13 12:26:40</td>\n",
       "    </tr>\n",
       "  </tbody>\n",
       "</table>\n",
       "<p>405184 rows × 9 columns</p>\n",
       "</div>"
      ],
      "text/plain": [
       "        device        co   humidity  light       lpg  motion     smoke  \\\n",
       "0            2  0.004956  51.000000      0  0.007651       0  0.020411   \n",
       "1            0  0.002840  76.000000      0  0.005114       0  0.013275   \n",
       "2            2  0.004976  50.900000      0  0.007673       0  0.020475   \n",
       "3            1  0.004403  76.800003      1  0.007023       0  0.018628   \n",
       "4            2  0.004967  50.900000      0  0.007664       0  0.020448   \n",
       "...        ...       ...        ...    ...       ...     ...       ...   \n",
       "405179       0  0.003745  75.300003      0  0.006247       0  0.016437   \n",
       "405180       2  0.005882  48.500000      0  0.008660       0  0.023301   \n",
       "405181       1  0.004540  75.699997      1  0.007181       0  0.019076   \n",
       "405182       0  0.003745  75.300003      0  0.006247       0  0.016437   \n",
       "405183       2  0.005914  48.400000      0  0.008695       0  0.023400   \n",
       "\n",
       "             temp          time_stamp  \n",
       "0       72.860000 2020-05-20 18:40:00  \n",
       "1       67.460001 2020-05-20 18:40:00  \n",
       "2       72.680000 2020-05-20 18:40:00  \n",
       "3       80.600000 2020-05-20 18:40:00  \n",
       "4       72.680000 2020-05-20 18:40:00  \n",
       "...           ...                 ...  \n",
       "405179  66.560001 2020-09-13 12:26:40  \n",
       "405180  71.960000 2020-09-13 12:26:40  \n",
       "405181  79.880001 2020-09-13 12:26:40  \n",
       "405182  66.560001 2020-09-13 12:26:40  \n",
       "405183  71.960000 2020-09-13 12:26:40  \n",
       "\n",
       "[405184 rows x 9 columns]"
      ]
     },
     "execution_count": 10,
     "metadata": {},
     "output_type": "execute_result"
    }
   ],
   "source": [
    "#converting the given temperature in  Fahrenheit to degree Celsius\n",
    "iot_data_df['temp'] = (iot_data_df['temp'] * 1.8) + 32\n",
    "iot_data_df"
   ]
  },
  {
   "cell_type": "markdown",
   "metadata": {},
   "source": [
    "# 4) Visualization"
   ]
  },
  {
   "cell_type": "code",
   "execution_count": 11,
   "metadata": {},
   "outputs": [
    {
     "data": {
      "image/png": "[encoded data removed]",
      "text/plain": [
       "<Figure size 432x288 with 1 Axes>"
      ]
     },
     "metadata": {},
     "output_type": "display_data"
    }
   ],
   "source": [
    "affect=['co', 'humidity', 'lpg', 'smoke', 'temp']\n",
    "slice=[3,7,8,6,9]\n",
    "color=['r', 'g', 'm', 'b', 'c']\n",
    "\n",
    "plt.pie(slice, labels=affect, colors=color, startangle=90,shadow=True, \n",
    "       explode=(0,0,0,0.1,0), autopct='%1.2f%%')\n",
    "plt.legend(bbox_to_anchor =(0.85, 1.20), ncol = 2) \n",
    "plt.show()"
   ]
  },
  {
   "cell_type": "code",
   "execution_count": 12,
   "metadata": {},
   "outputs": [
    {
     "data": {
      "text/plain": [
       "Text(0.5, 0.98, 'Environmental Sensor IoT')"
      ]
     },
     "execution_count": 12,
     "metadata": {},
     "output_type": "execute_result"
    },
    {
     "data": {
      "image/png": "[encoded data removed]",
      "text/plain": [
       "<Figure size 1440x1080 with 2 Axes>"
      ]
     },
     "metadata": {},
     "output_type": "display_data"
    }
   ],
   "source": [
    "from matplotlib.gridspec import GridSpec\n",
    "sns.set(style=\"whitegrid\")\n",
    "\n",
    "\n",
    "plt.figure(2, figsize=(20,15))\n",
    "the_grid = GridSpec(2, 2)\n",
    "\n",
    "plt.subplot(the_grid[0, 1],  title='Environmental Sensor')\n",
    "sns.barplot(y='device',x='time_stamp', data=iot_data_df, palette='Spectral')\n",
    "plt.subplot(the_grid[0, 0], title='Impact of External factors')\n",
    "\n",
    "sns.barplot(y='device',x='time_stamp', data=iot_data_df, palette='Spectral')\n",
    "\n",
    "plt.suptitle('Environmental Sensor IoT', fontsize=16)"
   ]
  },
  {
   "cell_type": "code",
   "execution_count": 13,
   "metadata": {},
   "outputs": [
    {
     "data": {
      "text/plain": [
       "<matplotlib.axes._subplots.AxesSubplot at 0x18a854a5188>"
      ]
     },
     "execution_count": 13,
     "metadata": {},
     "output_type": "execute_result"
    },
    {
     "data": {
      "image/png": "[encoded data removed]",
      "text/plain": [
       "<Figure size 432x288 with 1 Axes>"
      ]
     },
     "metadata": {},
     "output_type": "display_data"
    }
   ],
   "source": [
    "sns.set_style('darkgrid')\n",
    "sns.countplot('device', hue='motion',palette=\"rocket\", edgecolor=sns.color_palette(\"dark\", 3),linewidth=2, data=iot_data_df)"
   ]
  },
  {
   "cell_type": "code",
   "execution_count": 14,
   "metadata": {},
   "outputs": [
    {
     "data": {
      "text/plain": [
       "<matplotlib.axes._subplots.AxesSubplot at 0x18a854e4348>"
      ]
     },
     "execution_count": 14,
     "metadata": {},
     "output_type": "execute_result"
    },
    {
     "data": {
      "image/png": "[encoded data removed]",
      "text/plain": [
       "<Figure size 432x288 with 1 Axes>"
      ]
     },
     "metadata": {},
     "output_type": "display_data"
    }
   ],
   "source": [
    "sns.scatterplot('device', 'time_stamp', hue= 'motion', style='light' , data=iot_data_df)"
   ]
  },
  {
   "cell_type": "code",
   "execution_count": 18,
   "metadata": {},
   "outputs": [
    {
     "data": {
      "text/html": [
       "<div>\n",
       "<style scoped>\n",
       "    .dataframe tbody tr th:only-of-type {\n",
       "        vertical-align: middle;\n",
       "    }\n",
       "\n",
       "    .dataframe tbody tr th {\n",
       "        vertical-align: top;\n",
       "    }\n",
       "\n",
       "    .dataframe thead th {\n",
       "        text-align: right;\n",
       "    }\n",
       "</style>\n",
       "<table border=\"1\" class=\"dataframe\">\n",
       "  <thead>\n",
       "    <tr style=\"text-align: right;\">\n",
       "      <th></th>\n",
       "      <th>device</th>\n",
       "      <th>co</th>\n",
       "      <th>humidity</th>\n",
       "      <th>light</th>\n",
       "      <th>lpg</th>\n",
       "      <th>motion</th>\n",
       "      <th>smoke</th>\n",
       "      <th>temp</th>\n",
       "    </tr>\n",
       "  </thead>\n",
       "  <tbody>\n",
       "    <tr>\n",
       "      <th>0</th>\n",
       "      <td>2</td>\n",
       "      <td>0.004956</td>\n",
       "      <td>51.000000</td>\n",
       "      <td>0</td>\n",
       "      <td>0.007651</td>\n",
       "      <td>0</td>\n",
       "      <td>0.020411</td>\n",
       "      <td>72.860000</td>\n",
       "    </tr>\n",
       "    <tr>\n",
       "      <th>1</th>\n",
       "      <td>0</td>\n",
       "      <td>0.002840</td>\n",
       "      <td>76.000000</td>\n",
       "      <td>0</td>\n",
       "      <td>0.005114</td>\n",
       "      <td>0</td>\n",
       "      <td>0.013275</td>\n",
       "      <td>67.460001</td>\n",
       "    </tr>\n",
       "    <tr>\n",
       "      <th>2</th>\n",
       "      <td>2</td>\n",
       "      <td>0.004976</td>\n",
       "      <td>50.900000</td>\n",
       "      <td>0</td>\n",
       "      <td>0.007673</td>\n",
       "      <td>0</td>\n",
       "      <td>0.020475</td>\n",
       "      <td>72.680000</td>\n",
       "    </tr>\n",
       "    <tr>\n",
       "      <th>3</th>\n",
       "      <td>1</td>\n",
       "      <td>0.004403</td>\n",
       "      <td>76.800003</td>\n",
       "      <td>1</td>\n",
       "      <td>0.007023</td>\n",
       "      <td>0</td>\n",
       "      <td>0.018628</td>\n",
       "      <td>80.600000</td>\n",
       "    </tr>\n",
       "    <tr>\n",
       "      <th>4</th>\n",
       "      <td>2</td>\n",
       "      <td>0.004967</td>\n",
       "      <td>50.900000</td>\n",
       "      <td>0</td>\n",
       "      <td>0.007664</td>\n",
       "      <td>0</td>\n",
       "      <td>0.020448</td>\n",
       "      <td>72.680000</td>\n",
       "    </tr>\n",
       "  </tbody>\n",
       "</table>\n",
       "</div>"
      ],
      "text/plain": [
       "   device        co   humidity  light       lpg  motion     smoke       temp\n",
       "0       2  0.004956  51.000000      0  0.007651       0  0.020411  72.860000\n",
       "1       0  0.002840  76.000000      0  0.005114       0  0.013275  67.460001\n",
       "2       2  0.004976  50.900000      0  0.007673       0  0.020475  72.680000\n",
       "3       1  0.004403  76.800003      1  0.007023       0  0.018628  80.600000\n",
       "4       2  0.004967  50.900000      0  0.007664       0  0.020448  72.680000"
      ]
     },
     "execution_count": 18,
     "metadata": {},
     "output_type": "execute_result"
    }
   ],
   "source": [
    "iot_data_df.drop('time_stamp', axis=1, inplace=True)\n",
    "iot_data_df.head()"
   ]
  },
  {
   "cell_type": "markdown",
   "metadata": {},
   "source": [
    "# 5) Spliting Dataset into Train & Test"
   ]
  },
  {
   "cell_type": "code",
   "execution_count": 26,
   "metadata": {},
   "outputs": [
    {
     "data": {
      "text/plain": [
       "array([0, 0, 0, ..., 0, 0, 0], dtype=int64)"
      ]
     },
     "execution_count": 26,
     "metadata": {},
     "output_type": "execute_result"
    }
   ],
   "source": [
    "x = iot_data_df.drop('motion', axis= 1)\n",
    "y = iot_data_df['motion'].values\n",
    "y"
   ]
  },
  {
   "cell_type": "code",
   "execution_count": 27,
   "metadata": {},
   "outputs": [
    {
     "data": {
      "text/html": [
       "<div>\n",
       "<style scoped>\n",
       "    .dataframe tbody tr th:only-of-type {\n",
       "        vertical-align: middle;\n",
       "    }\n",
       "\n",
       "    .dataframe tbody tr th {\n",
       "        vertical-align: top;\n",
       "    }\n",
       "\n",
       "    .dataframe thead th {\n",
       "        text-align: right;\n",
       "    }\n",
       "</style>\n",
       "<table border=\"1\" class=\"dataframe\">\n",
       "  <thead>\n",
       "    <tr style=\"text-align: right;\">\n",
       "      <th></th>\n",
       "      <th>device</th>\n",
       "      <th>co</th>\n",
       "      <th>humidity</th>\n",
       "      <th>light</th>\n",
       "      <th>lpg</th>\n",
       "      <th>smoke</th>\n",
       "      <th>temp</th>\n",
       "    </tr>\n",
       "  </thead>\n",
       "  <tbody>\n",
       "    <tr>\n",
       "      <th>0</th>\n",
       "      <td>2</td>\n",
       "      <td>0.004956</td>\n",
       "      <td>51.000000</td>\n",
       "      <td>0</td>\n",
       "      <td>0.007651</td>\n",
       "      <td>0.020411</td>\n",
       "      <td>72.860000</td>\n",
       "    </tr>\n",
       "    <tr>\n",
       "      <th>1</th>\n",
       "      <td>0</td>\n",
       "      <td>0.002840</td>\n",
       "      <td>76.000000</td>\n",
       "      <td>0</td>\n",
       "      <td>0.005114</td>\n",
       "      <td>0.013275</td>\n",
       "      <td>67.460001</td>\n",
       "    </tr>\n",
       "    <tr>\n",
       "      <th>2</th>\n",
       "      <td>2</td>\n",
       "      <td>0.004976</td>\n",
       "      <td>50.900000</td>\n",
       "      <td>0</td>\n",
       "      <td>0.007673</td>\n",
       "      <td>0.020475</td>\n",
       "      <td>72.680000</td>\n",
       "    </tr>\n",
       "    <tr>\n",
       "      <th>3</th>\n",
       "      <td>1</td>\n",
       "      <td>0.004403</td>\n",
       "      <td>76.800003</td>\n",
       "      <td>1</td>\n",
       "      <td>0.007023</td>\n",
       "      <td>0.018628</td>\n",
       "      <td>80.600000</td>\n",
       "    </tr>\n",
       "    <tr>\n",
       "      <th>4</th>\n",
       "      <td>2</td>\n",
       "      <td>0.004967</td>\n",
       "      <td>50.900000</td>\n",
       "      <td>0</td>\n",
       "      <td>0.007664</td>\n",
       "      <td>0.020448</td>\n",
       "      <td>72.680000</td>\n",
       "    </tr>\n",
       "    <tr>\n",
       "      <th>...</th>\n",
       "      <td>...</td>\n",
       "      <td>...</td>\n",
       "      <td>...</td>\n",
       "      <td>...</td>\n",
       "      <td>...</td>\n",
       "      <td>...</td>\n",
       "      <td>...</td>\n",
       "    </tr>\n",
       "    <tr>\n",
       "      <th>405179</th>\n",
       "      <td>0</td>\n",
       "      <td>0.003745</td>\n",
       "      <td>75.300003</td>\n",
       "      <td>0</td>\n",
       "      <td>0.006247</td>\n",
       "      <td>0.016437</td>\n",
       "      <td>66.560001</td>\n",
       "    </tr>\n",
       "    <tr>\n",
       "      <th>405180</th>\n",
       "      <td>2</td>\n",
       "      <td>0.005882</td>\n",
       "      <td>48.500000</td>\n",
       "      <td>0</td>\n",
       "      <td>0.008660</td>\n",
       "      <td>0.023301</td>\n",
       "      <td>71.960000</td>\n",
       "    </tr>\n",
       "    <tr>\n",
       "      <th>405181</th>\n",
       "      <td>1</td>\n",
       "      <td>0.004540</td>\n",
       "      <td>75.699997</td>\n",
       "      <td>1</td>\n",
       "      <td>0.007181</td>\n",
       "      <td>0.019076</td>\n",
       "      <td>79.880001</td>\n",
       "    </tr>\n",
       "    <tr>\n",
       "      <th>405182</th>\n",
       "      <td>0</td>\n",
       "      <td>0.003745</td>\n",
       "      <td>75.300003</td>\n",
       "      <td>0</td>\n",
       "      <td>0.006247</td>\n",
       "      <td>0.016437</td>\n",
       "      <td>66.560001</td>\n",
       "    </tr>\n",
       "    <tr>\n",
       "      <th>405183</th>\n",
       "      <td>2</td>\n",
       "      <td>0.005914</td>\n",
       "      <td>48.400000</td>\n",
       "      <td>0</td>\n",
       "      <td>0.008695</td>\n",
       "      <td>0.023400</td>\n",
       "      <td>71.960000</td>\n",
       "    </tr>\n",
       "  </tbody>\n",
       "</table>\n",
       "<p>405184 rows × 7 columns</p>\n",
       "</div>"
      ],
      "text/plain": [
       "        device        co   humidity  light       lpg     smoke       temp\n",
       "0            2  0.004956  51.000000      0  0.007651  0.020411  72.860000\n",
       "1            0  0.002840  76.000000      0  0.005114  0.013275  67.460001\n",
       "2            2  0.004976  50.900000      0  0.007673  0.020475  72.680000\n",
       "3            1  0.004403  76.800003      1  0.007023  0.018628  80.600000\n",
       "4            2  0.004967  50.900000      0  0.007664  0.020448  72.680000\n",
       "...        ...       ...        ...    ...       ...       ...        ...\n",
       "405179       0  0.003745  75.300003      0  0.006247  0.016437  66.560001\n",
       "405180       2  0.005882  48.500000      0  0.008660  0.023301  71.960000\n",
       "405181       1  0.004540  75.699997      1  0.007181  0.019076  79.880001\n",
       "405182       0  0.003745  75.300003      0  0.006247  0.016437  66.560001\n",
       "405183       2  0.005914  48.400000      0  0.008695  0.023400  71.960000\n",
       "\n",
       "[405184 rows x 7 columns]"
      ]
     },
     "execution_count": 27,
     "metadata": {},
     "output_type": "execute_result"
    }
   ],
   "source": [
    "x"
   ]
  },
  {
   "cell_type": "code",
   "execution_count": 28,
   "metadata": {},
   "outputs": [],
   "source": [
    "from sklearn.model_selection import train_test_split\n",
    "X_train, X_test, y_train, y_test = train_test_split(x, y, test_size=0.05, random_state=0)"
   ]
  },
  {
   "cell_type": "markdown",
   "metadata": {},
   "source": [
    "# 6) Training and Predicting"
   ]
  },
  {
   "cell_type": "code",
   "execution_count": 29,
   "metadata": {},
   "outputs": [
    {
     "data": {
      "text/plain": [
       "LogisticRegression()"
      ]
     },
     "execution_count": 29,
     "metadata": {},
     "output_type": "execute_result"
    }
   ],
   "source": [
    "from sklearn.linear_model import LogisticRegression\n",
    "reg = LogisticRegression()\n",
    "reg.fit(X_train, y_train)"
   ]
  },
  {
   "cell_type": "code",
   "execution_count": 30,
   "metadata": {},
   "outputs": [
    {
     "data": {
      "text/plain": [
       "array([0, 0, 0, ..., 0, 0, 0], dtype=int64)"
      ]
     },
     "execution_count": 30,
     "metadata": {},
     "output_type": "execute_result"
    }
   ],
   "source": [
    "prediction = reg.predict(X_test)\n",
    "prediction"
   ]
  },
  {
   "cell_type": "code",
   "execution_count": 31,
   "metadata": {},
   "outputs": [
    {
     "data": {
      "text/plain": [
       "Text(0.5, 12.5, 'Predicted label')"
      ]
     },
     "execution_count": 31,
     "metadata": {},
     "output_type": "execute_result"
    },
    {
     "data": {
      "image/png": "[encoded data removed]",
      "text/plain": [
       "<Figure size 432x288 with 2 Axes>"
      ]
     },
     "metadata": {},
     "output_type": "display_data"
    }
   ],
   "source": [
    "from sklearn import metrics\n",
    "from sklearn.metrics import confusion_matrix\n",
    "cnf_matrix = metrics.confusion_matrix(y_test, prediction)\n",
    "#cnf_matrix\n",
    "sns.heatmap(cnf_matrix, annot=True, cmap=\"Spectral\" ,fmt='g', linewidth = 3)\n",
    "plt.tight_layout()\n",
    "plt.title('Confusion matrix')\n",
    "plt.ylabel('Actual label')\n",
    "plt.xlabel('Predicted label')"
   ]
  },
  {
   "cell_type": "code",
   "execution_count": 32,
   "metadata": {},
   "outputs": [
    {
     "name": "stdout",
     "output_type": "stream",
     "text": [
      "Accuracy: 0.9992596248766041\n",
      "Precision: 0.0\n",
      "Recall: 0.0\n"
     ]
    },
    {
     "name": "stderr",
     "output_type": "stream",
     "text": [
      "c:\\users\\shree\\appdata\\local\\programs\\python\\python37\\lib\\site-packages\\sklearn\\metrics\\_classification.py:1221: UndefinedMetricWarning: Precision is ill-defined and being set to 0.0 due to no predicted samples. Use `zero_division` parameter to control this behavior.\n",
      "  _warn_prf(average, modifier, msg_start, len(result))\n"
     ]
    }
   ],
   "source": [
    "print(\"Accuracy:\",metrics.accuracy_score(y_test, prediction))\n",
    "print(\"Precision:\",metrics.precision_score(y_test, prediction))\n",
    "print(\"Recall:\",metrics.recall_score(y_test, prediction))"
   ]
  },
  {
   "cell_type": "markdown",
   "metadata": {},
   "source": [
    "# Since motion had approx True (482 values = 0% ) value which is True in the Motion column rest False (405k = 100%) , so the machine will not predict the right accuracy.\n",
    "\n",
    "# Accuracy is approx 100% which means machine is overfitted.\n",
    "\n",
    "# Precision = 0,  which means that the machine could not find relevant data  with true values.\n",
    "\n",
    "# Recall = 0, means that all relavant data couldn't be retrieved by the search"
   ]
  },
  {
   "cell_type": "code",
   "execution_count": null,
   "metadata": {},
   "outputs": [],
   "source": []
  }
 ],
 "metadata": {
  "kernelspec": {
   "display_name": "Python 3",
   "language": "python",
   "name": "python3"
  },
  "language_info": {
   "codemirror_mode": {
    "name": "ipython",
    "version": 3
   },
   "file_extension": ".py",
   "mimetype": "text/x-python",
   "name": "python",
   "nbconvert_exporter": "python",
   "pygments_lexer": "ipython3",
   "version": "3.7.8"
  }
 },
 "nbformat": 4,
 "nbformat_minor": 4
}
